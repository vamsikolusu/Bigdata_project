{
 "cells": [
  {
   "cell_type": "code",
   "execution_count": 1,
   "id": "d0beb015-c4ed-46f7-9939-d169496bdb03",
   "metadata": {},
   "outputs": [
    {
     "data": {
      "text/html": [
       "<div>\n",
       "<style scoped>\n",
       "    .dataframe tbody tr th:only-of-type {\n",
       "        vertical-align: middle;\n",
       "    }\n",
       "\n",
       "    .dataframe tbody tr th {\n",
       "        vertical-align: top;\n",
       "    }\n",
       "\n",
       "    .dataframe thead th {\n",
       "        text-align: right;\n",
       "    }\n",
       "</style>\n",
       "<table border=\"1\" class=\"dataframe\">\n",
       "  <thead>\n",
       "    <tr style=\"text-align: right;\">\n",
       "      <th></th>\n",
       "      <th>Customer ID</th>\n",
       "      <th>Age</th>\n",
       "      <th>Gender</th>\n",
       "      <th>Item Purchased</th>\n",
       "      <th>Category</th>\n",
       "      <th>Purchase Amount (USD)</th>\n",
       "      <th>Location</th>\n",
       "      <th>Size</th>\n",
       "      <th>Color</th>\n",
       "      <th>Season</th>\n",
       "      <th>Review Rating</th>\n",
       "      <th>Subscription Status</th>\n",
       "      <th>Payment Method</th>\n",
       "      <th>Shipping Type</th>\n",
       "      <th>Discount Applied</th>\n",
       "      <th>Promo Code Used</th>\n",
       "      <th>Previous Purchases</th>\n",
       "      <th>Preferred Payment Method</th>\n",
       "      <th>Frequency of Purchases</th>\n",
       "    </tr>\n",
       "  </thead>\n",
       "  <tbody>\n",
       "    <tr>\n",
       "      <th>0</th>\n",
       "      <td>1</td>\n",
       "      <td>55</td>\n",
       "      <td>Male</td>\n",
       "      <td>Blouse</td>\n",
       "      <td>Clothing</td>\n",
       "      <td>53</td>\n",
       "      <td>Kentucky</td>\n",
       "      <td>L</td>\n",
       "      <td>Gray</td>\n",
       "      <td>Winter</td>\n",
       "      <td>3.1</td>\n",
       "      <td>Yes</td>\n",
       "      <td>Credit Card</td>\n",
       "      <td>Express</td>\n",
       "      <td>Yes</td>\n",
       "      <td>Yes</td>\n",
       "      <td>14</td>\n",
       "      <td>Venmo</td>\n",
       "      <td>Fortnightly</td>\n",
       "    </tr>\n",
       "    <tr>\n",
       "      <th>1</th>\n",
       "      <td>2</td>\n",
       "      <td>19</td>\n",
       "      <td>Male</td>\n",
       "      <td>Sweater</td>\n",
       "      <td>Clothing</td>\n",
       "      <td>64</td>\n",
       "      <td>Maine</td>\n",
       "      <td>L</td>\n",
       "      <td>Maroon</td>\n",
       "      <td>Winter</td>\n",
       "      <td>3.1</td>\n",
       "      <td>Yes</td>\n",
       "      <td>Bank Transfer</td>\n",
       "      <td>Express</td>\n",
       "      <td>Yes</td>\n",
       "      <td>Yes</td>\n",
       "      <td>2</td>\n",
       "      <td>Cash</td>\n",
       "      <td>Fortnightly</td>\n",
       "    </tr>\n",
       "    <tr>\n",
       "      <th>2</th>\n",
       "      <td>3</td>\n",
       "      <td>50</td>\n",
       "      <td>Male</td>\n",
       "      <td>Jeans</td>\n",
       "      <td>Clothing</td>\n",
       "      <td>73</td>\n",
       "      <td>Massachusetts</td>\n",
       "      <td>S</td>\n",
       "      <td>Maroon</td>\n",
       "      <td>Spring</td>\n",
       "      <td>3.1</td>\n",
       "      <td>Yes</td>\n",
       "      <td>Cash</td>\n",
       "      <td>Free Shipping</td>\n",
       "      <td>Yes</td>\n",
       "      <td>Yes</td>\n",
       "      <td>23</td>\n",
       "      <td>Credit Card</td>\n",
       "      <td>Weekly</td>\n",
       "    </tr>\n",
       "    <tr>\n",
       "      <th>3</th>\n",
       "      <td>4</td>\n",
       "      <td>21</td>\n",
       "      <td>Male</td>\n",
       "      <td>Sandals</td>\n",
       "      <td>Footwear</td>\n",
       "      <td>90</td>\n",
       "      <td>Rhode Island</td>\n",
       "      <td>M</td>\n",
       "      <td>Maroon</td>\n",
       "      <td>Spring</td>\n",
       "      <td>3.5</td>\n",
       "      <td>Yes</td>\n",
       "      <td>PayPal</td>\n",
       "      <td>Next Day Air</td>\n",
       "      <td>Yes</td>\n",
       "      <td>Yes</td>\n",
       "      <td>49</td>\n",
       "      <td>PayPal</td>\n",
       "      <td>Weekly</td>\n",
       "    </tr>\n",
       "    <tr>\n",
       "      <th>4</th>\n",
       "      <td>5</td>\n",
       "      <td>45</td>\n",
       "      <td>Male</td>\n",
       "      <td>Blouse</td>\n",
       "      <td>Clothing</td>\n",
       "      <td>49</td>\n",
       "      <td>Oregon</td>\n",
       "      <td>M</td>\n",
       "      <td>Turquoise</td>\n",
       "      <td>Spring</td>\n",
       "      <td>2.7</td>\n",
       "      <td>Yes</td>\n",
       "      <td>Cash</td>\n",
       "      <td>Free Shipping</td>\n",
       "      <td>Yes</td>\n",
       "      <td>Yes</td>\n",
       "      <td>31</td>\n",
       "      <td>PayPal</td>\n",
       "      <td>Annually</td>\n",
       "    </tr>\n",
       "  </tbody>\n",
       "</table>\n",
       "</div>"
      ],
      "text/plain": [
       "   Customer ID  Age Gender Item Purchased  Category  Purchase Amount (USD)  \\\n",
       "0            1   55   Male         Blouse  Clothing                     53   \n",
       "1            2   19   Male        Sweater  Clothing                     64   \n",
       "2            3   50   Male          Jeans  Clothing                     73   \n",
       "3            4   21   Male        Sandals  Footwear                     90   \n",
       "4            5   45   Male         Blouse  Clothing                     49   \n",
       "\n",
       "        Location Size      Color  Season  Review Rating Subscription Status  \\\n",
       "0       Kentucky    L       Gray  Winter            3.1                 Yes   \n",
       "1          Maine    L     Maroon  Winter            3.1                 Yes   \n",
       "2  Massachusetts    S     Maroon  Spring            3.1                 Yes   \n",
       "3   Rhode Island    M     Maroon  Spring            3.5                 Yes   \n",
       "4         Oregon    M  Turquoise  Spring            2.7                 Yes   \n",
       "\n",
       "  Payment Method  Shipping Type Discount Applied Promo Code Used  \\\n",
       "0    Credit Card        Express              Yes             Yes   \n",
       "1  Bank Transfer        Express              Yes             Yes   \n",
       "2           Cash  Free Shipping              Yes             Yes   \n",
       "3         PayPal   Next Day Air              Yes             Yes   \n",
       "4           Cash  Free Shipping              Yes             Yes   \n",
       "\n",
       "   Previous Purchases Preferred Payment Method Frequency of Purchases  \n",
       "0                  14                    Venmo            Fortnightly  \n",
       "1                   2                     Cash            Fortnightly  \n",
       "2                  23              Credit Card                 Weekly  \n",
       "3                  49                   PayPal                 Weekly  \n",
       "4                  31                   PayPal               Annually  "
      ]
     },
     "execution_count": 1,
     "metadata": {},
     "output_type": "execute_result"
    }
   ],
   "source": [
    "# Importing pandas\n",
    "import pandas as pd\n",
    "\n",
    "# Path to the 'shopping_trends.csv' file\n",
    "file_path = r'C:\\Users\\s549879\\Downloads\\Bigdata_dataset\\shopping_trends.csv'\n",
    "\n",
    "# Load the dataset into a DataFrame\n",
    "df = pd.read_csv(file_path)\n",
    "\n",
    "# Display the first few rows of the DataFrame to verify it loaded correctly\n",
    "df.head()\n"
   ]
  },
  {
   "cell_type": "code",
   "execution_count": 2,
   "id": "0bbb0200-0a1a-47d1-b07f-d54a368ac5f5",
   "metadata": {},
   "outputs": [
    {
     "name": "stdout",
     "output_type": "stream",
     "text": [
      "Missing Values Before Handling:\n",
      "Customer ID                 0\n",
      "Age                         0\n",
      "Gender                      0\n",
      "Item Purchased              0\n",
      "Category                    0\n",
      "Purchase Amount (USD)       0\n",
      "Location                    0\n",
      "Size                        0\n",
      "Color                       0\n",
      "Season                      0\n",
      "Review Rating               0\n",
      "Subscription Status         0\n",
      "Payment Method              0\n",
      "Shipping Type               0\n",
      "Discount Applied            0\n",
      "Promo Code Used             0\n",
      "Previous Purchases          0\n",
      "Preferred Payment Method    0\n",
      "Frequency of Purchases      0\n",
      "dtype: int64\n",
      "\n",
      "Missing Values After Handling:\n",
      "Customer ID                 0\n",
      "Age                         0\n",
      "Gender                      0\n",
      "Item Purchased              0\n",
      "Category                    0\n",
      "Purchase Amount (USD)       0\n",
      "Location                    0\n",
      "Size                        0\n",
      "Color                       0\n",
      "Season                      0\n",
      "Review Rating               0\n",
      "Subscription Status         0\n",
      "Payment Method              0\n",
      "Shipping Type               0\n",
      "Discount Applied            0\n",
      "Promo Code Used             0\n",
      "Previous Purchases          0\n",
      "Preferred Payment Method    0\n",
      "Frequency of Purchases      0\n",
      "dtype: int64\n"
     ]
    }
   ],
   "source": [
    "# Display information about missing values\n",
    "print(\"Missing Values Before Handling:\")\n",
    "print(df.isnull().sum())\n",
    "\n",
    "# Handle missing values\n",
    "# Example: Filling missing values in the 'Age' column with the mean\n",
    "df['Age'].fillna(df['Age'].mean(), inplace=True)\n",
    "\n",
    "# Display information after handling missing values\n",
    "print(\"\\nMissing Values After Handling:\")\n",
    "print(df.isnull().sum())\n"
   ]
  },
  {
   "cell_type": "code",
   "execution_count": 3,
   "id": "25d054e4-d942-4478-91be-d150059a5057",
   "metadata": {},
   "outputs": [
    {
     "name": "stdout",
     "output_type": "stream",
     "text": [
      "Duplicate Rows Before Removal: 0\n",
      "Duplicate Rows After Removal: 0\n"
     ]
    }
   ],
   "source": [
    "# Check for and remove duplicate rows\n",
    "print(\"Duplicate Rows Before Removal:\", df.duplicated().sum())\n",
    "\n",
    "df.drop_duplicates(inplace=True)\n",
    "\n",
    "print(\"Duplicate Rows After Removal:\", df.duplicated().sum())\n"
   ]
  },
  {
   "cell_type": "code",
   "execution_count": 5,
   "id": "dc548ce7-4790-4e44-98d9-522f90759981",
   "metadata": {},
   "outputs": [
    {
     "name": "stdout",
     "output_type": "stream",
     "text": [
      "Cleaned dataset saved and replaced 'shopping_trends.csv' successfully.\n"
     ]
    }
   ],
   "source": [
    "# Assuming 'df' is your cleaned DataFrame\n",
    "original_file_path = r'C:\\Users\\s549879\\Downloads\\Bigdata_dataset\\shopping_trends.csv'\n",
    "\n",
    "# Save the cleaned DataFrame to the original file path, replacing the existing file\n",
    "df.to_csv(original_file_path, index=False)\n",
    "\n",
    "print(\"Cleaned dataset saved and replaced 'shopping_trends.csv' successfully.\")\n"
   ]
  },
  {
   "cell_type": "code",
   "execution_count": 36,
   "id": "fea78a41-8751-4332-ab3b-fecbe4c173b6",
   "metadata": {},
   "outputs": [
    {
     "name": "stdout",
     "output_type": "stream",
     "text": [
      "#  Maximizing Delivery and Rebates\n",
      "Shipping Effects:\n",
      "    Shipping Type  AverageRating\n",
      "0  2-Day Shipping       3.761085\n",
      "1         Express       3.776935\n",
      "2   Free Shipping       3.717926\n",
      "3    Next Day Air       3.720833\n",
      "4        Standard       3.817737\n",
      "5    Store Pickup       3.706462\n",
      "\n",
      "Promotional Effects:\n",
      "  Promo Code Used  AverageRating\n",
      "0              No       3.757715\n",
      "1             Yes       3.739654\n"
     ]
    }
   ],
   "source": [
    "# Goal- 1.1 Assess how various shipping methods affect client happiness\n",
    "shipping_effects = df.groupby('Shipping Type')['Review Rating'].mean().reset_index().rename(columns={'Review Rating': 'AverageRating'})\n",
    "\n",
    "# GOAL- 1.2 Assess how promotional tactics affect client happiness\n",
    "promotional_effects = df.groupby('Promo Code Used')['Review Rating'].mean().reset_index().rename(columns={'Review Rating': 'AverageRating'})\n",
    "\n",
    "# Display outputs for Goal \n",
    "print(\"#  Maximizing Delivery and Rebates\")\n",
    "print(\"Shipping Effects:\")\n",
    "print(shipping_effects)\n",
    "print(\"\\nPromotional Effects:\")\n",
    "print(promotional_effects)\n"
   ]
  },
  {
   "cell_type": "code",
   "execution_count": 37,
   "id": "05901219-1ef8-4437-8109-dae30ae5edcf",
   "metadata": {},
   "outputs": [
    {
     "name": "stdout",
     "output_type": "stream",
     "text": [
      "\n",
      "#  Product Performance Analysis\n",
      "   Item Purchased     Category  AverageRating\n",
      "0        Backpack  Accessories       3.752448\n",
      "1            Belt  Accessories       3.761491\n",
      "2          Blouse     Clothing       3.683626\n",
      "3           Boots     Footwear       3.812500\n",
      "4            Coat    Outerwear       3.730435\n",
      "5           Dress     Clothing       3.754819\n",
      "6          Gloves  Accessories       3.864286\n",
      "7         Handbag  Accessories       3.775163\n",
      "8             Hat  Accessories       3.806494\n",
      "9          Hoodie     Clothing       3.719205\n",
      "10         Jacket    Outerwear       3.763190\n",
      "11          Jeans     Clothing       3.648387\n",
      "12        Jewelry  Accessories       3.756140\n",
      "13          Pants     Clothing       3.718713\n",
      "14        Sandals     Footwear       3.841250\n",
      "15          Scarf  Accessories       3.700000\n",
      "16          Shirt     Clothing       3.629586\n",
      "17          Shoes     Footwear       3.747333\n",
      "18         Shorts     Clothing       3.711465\n",
      "19          Skirt     Clothing       3.782278\n",
      "20       Sneakers     Footwear       3.757931\n",
      "21          Socks     Clothing       3.750943\n",
      "22     Sunglasses  Accessories       3.744720\n",
      "23        Sweater     Clothing       3.767073\n",
      "24        T-shirt     Clothing       3.782993\n"
     ]
    }
   ],
   "source": [
    "# Goal -2  Calculate average review ratings for each product and category\n",
    "product_performance = df.groupby(['Item Purchased', 'Category'])['Review Rating'].mean().reset_index().rename(columns={'Review Rating': 'AverageRating'})\n",
    "\n",
    "# Display outputs for Goal 6\n",
    "print(\"\\n#  Product Performance Analysis\")\n",
    "print(product_performance)\n"
   ]
  },
  {
   "cell_type": "code",
   "execution_count": 38,
   "id": "f7636b53-5ba4-480c-a336-4be1cb7d4d04",
   "metadata": {},
   "outputs": [
    {
     "name": "stdout",
     "output_type": "stream",
     "text": [
      "\n",
      "#  Payment Method Preferences\n",
      "  Payment Method  AverageRating\n",
      "0  Bank Transfer       3.775633\n",
      "1           Cash       3.743364\n",
      "2    Credit Card       3.738937\n",
      "3     Debit Card       3.723539\n",
      "4         PayPal       3.760815\n",
      "5          Venmo       3.758346\n"
     ]
    }
   ],
   "source": [
    "# Goal-3 Analyze average review ratings based on payment methods\n",
    "payment_method_analysis = df.groupby('Payment Method')['Review Rating'].mean().reset_index().rename(columns={'Review Rating': 'AverageRating'})\n",
    "\n",
    "\n",
    "print(\"\\n#  Payment Method Preferences\")\n",
    "print(payment_method_analysis)\n"
   ]
  },
  {
   "cell_type": "code",
   "execution_count": 39,
   "id": "97621c81-eebe-4842-815a-c85418a81aa6",
   "metadata": {
    "scrolled": true
   },
   "outputs": [
    {
     "name": "stdout",
     "output_type": "stream",
     "text": [
      "\n",
      "# Geographic Customer Distribution\n",
      "          Location  AverageRating\n",
      "0          Alabama       3.782022\n",
      "1           Alaska       3.802778\n",
      "2          Arizona       3.693846\n",
      "3         Arkansas       3.724051\n",
      "4       California       3.834737\n",
      "5         Colorado       3.726667\n",
      "6      Connecticut       3.694872\n",
      "7         Delaware       3.795349\n",
      "8          Florida       3.679412\n",
      "9          Georgia       3.624051\n",
      "10          Hawaii       3.673846\n",
      "11           Idaho       3.781720\n",
      "12        Illinois       3.644565\n",
      "13         Indiana       3.806329\n",
      "14            Iowa       3.847826\n",
      "15          Kansas       3.803175\n",
      "16        Kentucky       3.751899\n",
      "17       Louisiana       3.772619\n",
      "18           Maine       3.841558\n",
      "19        Maryland       3.805814\n",
      "20   Massachusetts       3.715278\n",
      "21        Michigan       3.823288\n",
      "22       Minnesota       3.753409\n",
      "23     Mississippi       3.756250\n",
      "24        Missouri       3.746914\n",
      "25         Montana       3.808333\n",
      "26        Nebraska       3.728736\n",
      "27          Nevada       3.712644\n",
      "28   New Hampshire       3.611268\n",
      "29      New Jersey       3.767164\n",
      "30      New Mexico       3.732099\n",
      "31        New York       3.747126\n",
      "32  North Carolina       3.814103\n",
      "33    North Dakota       3.751807\n",
      "34            Ohio       3.814286\n",
      "35        Oklahoma       3.605333\n",
      "36          Oregon       3.764865\n",
      "37    Pennsylvania       3.779730\n",
      "38    Rhode Island       3.736508\n",
      "39  South Carolina       3.761842\n",
      "40    South Dakota       3.677143\n",
      "41       Tennessee       3.781818\n",
      "42           Texas       3.905195\n",
      "43            Utah       3.676056\n",
      "44         Vermont       3.712941\n",
      "45        Virginia       3.709091\n",
      "46      Washington       3.806849\n",
      "47   West Virginia       3.580247\n",
      "48       Wisconsin       3.892000\n",
      "49         Wyoming       3.694366\n"
     ]
    }
   ],
   "source": [
    "#  Goal- 4 Analyze average review ratings based on customer locations\n",
    "location_analysis = df.groupby('Location')['Review Rating'].mean().reset_index().rename(columns={'Review Rating': 'AverageRating'})\n",
    "\n",
    "# Display outputs for Goal \n",
    "print(\"\\n# Geographic Customer Distribution\")\n",
    "print(location_analysis)\n"
   ]
  },
  {
   "cell_type": "code",
   "execution_count": 40,
   "id": "104615df-751e-432b-8f78-c70d3c073259",
   "metadata": {},
   "outputs": [
    {
     "name": "stdout",
     "output_type": "stream",
     "text": [
      "      Category  PurchaseCount\n",
      "9  Accessories           1240\n",
      "0     Clothing           1737\n",
      "3     Footwear            599\n",
      "8    Outerwear            324\n"
     ]
    }
   ],
   "source": [
    "# Goal-5 Find the product with the highest purchase count in each category\n",
    "\n",
    "# Create a new column 'PurchaseCount' to store the count of purchases for each product\n",
    "df['PurchaseCount'] = df.groupby('Category')['Customer ID'].transform('count')\n",
    "most_popular_category = df.loc[df.groupby('Category')['PurchaseCount'].idxmax()][['Category', 'PurchaseCount']]\n",
    "\n",
    "# Display the most popular  category\n",
    "print(most_popular_category)\n"
   ]
  },
  {
   "cell_type": "code",
   "execution_count": 41,
   "id": "d7641b45-c7af-4f14-a7c4-cbb2c2b91b00",
   "metadata": {},
   "outputs": [
    {
     "name": "stdout",
     "output_type": "stream",
     "text": [
      "   Season  PurchaseCount  AveragePurchaseAmount per each purchase\n",
      "0    Fall            975                                61.556923\n",
      "1  Spring            999                                58.737738\n",
      "2  Summer            955                                58.405236\n",
      "3  Winter            971                                60.357364\n"
     ]
    }
   ],
   "source": [
    "# Goal-6 Determine the most common season for purchases and average purchase amount in each season\n",
    "seasonal_purchase_behavior = df.groupby('Season').agg({\n",
    "    'Customer ID': 'count',                   # Count of purchases in each season\n",
    "    'Purchase Amount (USD)': 'mean'           # Average purchase amount in each season\n",
    "}).reset_index().rename(columns={\n",
    "    'Customer ID': 'PurchaseCount',           # Rename the column for purchase count\n",
    "    'Purchase Amount (USD)': 'AveragePurchaseAmount per each purchase'  # Rename the column for average purchase amount\n",
    "})\n",
    "# Example output based on code structure\n",
    "print(seasonal_purchase_behavior)\n",
    "\n",
    "\n"
   ]
  },
  {
   "cell_type": "code",
   "execution_count": 42,
   "id": "a88f2455-d438-43ee-af86-f4029c4ed893",
   "metadata": {},
   "outputs": [
    {
     "name": "stdout",
     "output_type": "stream",
     "text": [
      "Total Rows: 3900\n",
      "Total Columns: 20\n"
     ]
    }
   ],
   "source": [
    "# Assuming your DataFrame is named 'df'\n",
    "total_rows, total_columns = df.shape\n",
    "\n",
    "print(\"Total Rows:\", total_rows)\n",
    "print(\"Total Columns:\", total_columns)\n"
   ]
  },
  {
   "cell_type": "code",
   "execution_count": null,
   "id": "6f7d76ae-eee5-4b1b-b34c-176bf76fb408",
   "metadata": {},
   "outputs": [],
   "source": []
  }
 ],
 "metadata": {
  "kernelspec": {
   "display_name": "Python 3 (ipykernel)",
   "language": "python",
   "name": "python3"
  },
  "language_info": {
   "codemirror_mode": {
    "name": "ipython",
    "version": 3
   },
   "file_extension": ".py",
   "mimetype": "text/x-python",
   "name": "python",
   "nbconvert_exporter": "python",
   "pygments_lexer": "ipython3",
   "version": "3.12.0"
  }
 },
 "nbformat": 4,
 "nbformat_minor": 5
}
